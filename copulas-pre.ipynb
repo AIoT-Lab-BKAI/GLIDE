{
 "cells": [
  {
   "cell_type": "code",
   "execution_count": 2,
   "metadata": {},
   "outputs": [
    {
     "name": "stderr",
     "output_type": "stream",
     "text": [
      "/home/admin/miniconda3/envs/easyFL/lib/python3.8/site-packages/sklearn/preprocessing/_discretization.py:248: FutureWarning: In version 1.5 onwards, subsample=200_000 will be used by default. Set subsample explicitly to silence this warning in the mean time. Set subsample=None to disable subsampling explicitly.\n",
      "  warnings.warn(\n",
      "/home/admin/miniconda3/envs/easyFL/lib/python3.8/site-packages/sklearn/preprocessing/_discretization.py:248: FutureWarning: In version 1.5 onwards, subsample=200_000 will be used by default. Set subsample explicitly to silence this warning in the mean time. Set subsample=None to disable subsampling explicitly.\n",
      "  warnings.warn(\n",
      "/home/admin/miniconda3/envs/easyFL/lib/python3.8/site-packages/sklearn/preprocessing/_discretization.py:248: FutureWarning: In version 1.5 onwards, subsample=200_000 will be used by default. Set subsample explicitly to silence this warning in the mean time. Set subsample=None to disable subsampling explicitly.\n",
      "  warnings.warn(\n"
     ]
    }
   ],
   "source": [
    "import numpy as np\n",
    "import pandas as pd\n",
    "from sklearn.preprocessing import KBinsDiscretizer\n",
    "\n",
    "\n",
    "d = 500\n",
    "for s in [800, 900, 1000]:\n",
    "    # d = s\n",
    "    ntype = \"sf_nonlinear\"\n",
    "    data = pd.read_csv(f\"data/notears/{ntype}Gaussian/raw/X_{d}_{s}.csv\", delimiter=',', names=[f\"X{i}\" for i in range(1,d+1)])\n",
    "\n",
    "    for b in [4]:\n",
    "        # num_bins = 4  # Number of bins for discretization\n",
    "        num_bins = b\n",
    "        discretizer = KBinsDiscretizer(n_bins=num_bins, encode='ordinal', strategy='uniform')\n",
    "\n",
    "        # Fit the discretizer on the data and transform it\n",
    "        discretized_data = discretizer.fit_transform(data)\n",
    "\n",
    "        # Convert to DataFrame for better readability\n",
    "        discretized_df = pd.DataFrame(discretized_data, columns=data.columns)\n",
    "        discretized_df.to_csv(f\"data/notears/{ntype}Gaussian/processed/X_{d}_{s}_{b}.csv\")"
   ]
  }
 ],
 "metadata": {
  "kernelspec": {
   "display_name": "copula",
   "language": "python",
   "name": "python3"
  },
  "language_info": {
   "codemirror_mode": {
    "name": "ipython",
    "version": 3
   },
   "file_extension": ".py",
   "mimetype": "text/x-python",
   "name": "python",
   "nbconvert_exporter": "python",
   "pygments_lexer": "ipython3",
   "version": "3.8.18"
  }
 },
 "nbformat": 4,
 "nbformat_minor": 2
}
